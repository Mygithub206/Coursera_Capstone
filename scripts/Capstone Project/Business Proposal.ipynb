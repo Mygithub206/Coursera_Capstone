{
 "cells": [
  {
   "cell_type": "markdown",
   "metadata": {},
   "source": [
    "\n",
    "# The Battle of Neighborhoods | Business Proposal\n",
    "### Introduction:\n",
    "The Purpose of this project is to help venue owners research crime rates and popular venues around the zipcodes that make up Downtown Tornto. The amount of people looking for relocation, whether it be for work, for a new life, or for vacation, has been steadily increasing in the most recent months. Toronto makes a great get away and a great place to seek out work oppurtunities.\n",
    "\n",
    "### Problem Which Tried to Solve:\n",
    "The main purpose of this project is to be able to analyze specific neighborhoods in downtown Toronto. When someone is seeking a new job oppurtunity or looking to open up a new business the ability to visualize venue presence and the probability of a robbery are very important. This information is detrimental to a venue owner and can be key for new coming residents.\n",
    "\n",
    "    1) A sorted list of the top venues, the occurance amount of venues, and geographical information in every neighborhood\n",
    "    2) Sort downtown, Toronto neighborhoods based on the occurance of robberies (mugging, delivery person, home invasion,\n",
    "        armored car, swarming, other) and merge crime occurance with their nearest neighborhood by proximity.\n",
    "\n",
    "The Location:\n",
    "Toronto, the capital of Ontario is Canada's largest city and known for being very diverse. Toronto is home to many towering skyscrapers while also staying lush with greenery and many forms of tourist attractions. With the increasing attention and tourism to Canada, Toronto makes for a great place to start a business or start a new life.\n",
    "\n",
    "###  Foursquare API:\n",
    "This project would use Four-square API as its prime data gathering source as it has a database of millions of places, especially their places API which provides the ability to perform location search, location sharing and details about a business.\n",
    "### Toronto Public Safety Data API:\n",
    "This Robbery dataset is a subset of the Major Crime Indicators (MCI) from 2014 to 2019. Shared By: TorontoPoliceService\n",
    "\n",
    "### Work Flow:\n",
    "Using credentials of Foursquare API features of near-by places of the neighborhoods would be mined. Due to http request limitations the number of places per neighborhood parameter would reasonably be set to 100 and the radius parameter would be set to 1000 meters.\n",
    "\n",
    "### Clustering Approach:\n",
    "To compare the similarities of two cities, we decided to explore neighborhoods, segment them, and group them into clusters to find similar neighborhoods in other cities like New York and Los Angeles. To be able to do that, we need to cluster data which is a form of unsupervised machine learning: k-means clustering algorithm\n",
    "\n",
    "### Libraries Which are Used to Develope the Project:\n",
    "Pandas: For creating and manipulating dataframes.\n",
    "\n",
    "Folium: Python visualization library would be used to visualize the neighborhoods cluster distribution of using interactive leaflet map.\n",
    "\n",
    "Scikit Learn: For importing k-means clustering.\n",
    "\n",
    "JSON: Library to handle JSON files.\n",
    "\n",
    "XML: To separate data from presentation and XML stores data in plain text format.\n",
    "\n",
    "Geocoder: To retrieve Location Data.\n",
    "\n",
    "Matplotlib: Python Plotting Module."
   ]
  },
  {
   "cell_type": "code",
   "execution_count": null,
   "metadata": {},
   "outputs": [],
   "source": []
  }
 ],
 "metadata": {
  "kernelspec": {
   "display_name": "Python 3",
   "language": "python",
   "name": "python3"
  },
  "language_info": {
   "codemirror_mode": {
    "name": "ipython",
    "version": 3
   },
   "file_extension": ".py",
   "mimetype": "text/x-python",
   "name": "python",
   "nbconvert_exporter": "python",
   "pygments_lexer": "ipython3",
   "version": "3.8.5"
  }
 },
 "nbformat": 4,
 "nbformat_minor": 4
}
